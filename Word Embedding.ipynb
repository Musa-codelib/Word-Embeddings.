{
 "cells": [
  {
   "cell_type": "code",
   "execution_count": null,
   "metadata": {},
   "outputs": [],
   "source": [
    "import gensim\n",
    "import numpy as np\n",
    "from sklearn.model_selection import train_test_split\n",
    "from sklearn.linear_model import LogisticRegression\n",
    "from sklearn.metrics import accuracy_score\n",
    "\n",
    "# Load pre-trained Word2Vec embeddings\n",
    "word2vec_model = gensim.models.KeyedVectors.load_word2vec_format('path_to_word2vec.bin', binary=True)\n",
    "\n",
    "# Simulate an NLP dataset for text classification\n",
    "texts = [\"this is a positive example\", \"negative sentiment here\", \"a very positive review\", \"not good at all\"]\n",
    "labels = [1, 0, 1, 0]\n",
    "\n",
    "# Tokenize and represent text as the mean of word vectors\n",
    "def document_vectorizer(doc, model):\n",
    "    words = doc.split()\n",
    "    word_vectors = [model[word] for word in words if word in model]\n",
    "    if not word_vectors:\n",
    "        return np.zeros(model.vector_size)\n",
    "    return np.mean(word_vectors, axis=0)\n",
    "\n",
    "X = np.array([document_vectorizer(text, word2vec_model) for text in texts])\n",
    "y = np.array(labels)\n",
    "\n",
    "# Split the data into training and testing sets\n",
    "X_train, X_test, y_train, y_test = train_test_split(X, y, test_size=0.2, random_state=42)\n",
    "\n",
    "# Train a simple logistic regression classifier on the fine-tuned embeddings\n",
    "classifier = LogisticRegression()\n",
    "classifier.fit(X_train, y_train)\n",
    "\n",
    "# Make predictions and evaluate the model\n",
    "y_pred = classifier.predict(X_test)\n",
    "accuracy = accuracy_score(y_test, y_pred)\n",
    "print(f\"Accuracy: {accuracy}\")\n"
   ]
  }
 ],
 "metadata": {
  "language_info": {
   "name": "python"
  }
 },
 "nbformat": 4,
 "nbformat_minor": 2
}
